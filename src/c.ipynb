{
 "metadata": {
  "language_info": {
   "codemirror_mode": {
    "name": "ipython",
    "version": 3
   },
   "file_extension": ".py",
   "mimetype": "text/x-python",
   "name": "python",
   "nbconvert_exporter": "python",
   "pygments_lexer": "ipython3",
   "version": "3.6.9-final"
  },
  "orig_nbformat": 2,
  "kernelspec": {
   "name": "python3",
   "display_name": "Python 3.6.9 64-bit",
   "metadata": {
    "interpreter": {
     "hash": "31f2aee4e71d21fbe5cf8b01ff0e069b9275f58929596ceb00d14d90e3e16cd6"
    }
   }
  }
 },
 "nbformat": 4,
 "nbformat_minor": 2,
 "cells": [
  {
   "cell_type": "code",
   "execution_count": 4,
   "metadata": {},
   "outputs": [
    {
     "output_type": "execute_result",
     "data": {
      "text/plain": [
       "8"
      ]
     },
     "metadata": {},
     "execution_count": 4
    }
   ],
   "source": [
    "MOSTALPHA = ['e', 't', 'a', 'o', 'i', 'n', 's', 'h', 'r', 'd', 'l',\n",
    "                  'c', 'u', 'm', 'w', 'f', 'g', 'y', 'p', 'b', 'v', 'k',\n",
    "                  'j', 'x', 'q', 'z']\n",
    "MOSTALPHA.index('r')"
   ]
  },
  {
   "cell_type": "code",
   "execution_count": 9,
   "metadata": {},
   "outputs": [
    {
     "output_type": "execute_result",
     "data": {
      "text/plain": [
       "2"
      ]
     },
     "metadata": {},
     "execution_count": 9
    }
   ],
   "source": [
    "str = 'abcdefghijklmn'\n",
    "len(str) // 5"
   ]
  },
  {
   "cell_type": "code",
   "execution_count": 21,
   "metadata": {},
   "outputs": [
    {
     "output_type": "execute_result",
     "data": {
      "text/plain": [
       "[['', '', '', '', ''],\n",
       " ['', '', '', '', ''],\n",
       " ['', '', '', '', ''],\n",
       " ['', '', '', '', ''],\n",
       " ['', '', '', '', '']]"
      ]
     },
     "metadata": {},
     "execution_count": 21
    }
   ],
   "source": [
    "c2 = [['']*5 for _ in range(5)]\n",
    "\n",
    "c2"
   ]
  },
  {
   "cell_type": "code",
   "execution_count": 23,
   "metadata": {},
   "outputs": [
    {
     "output_type": "execute_result",
     "data": {
      "text/plain": [
       "[['a', 'b', 'c', 'd', 'e'],\n",
       " ['f', 'g', 'h', 'i', 'j'],\n",
       " ['k', 'l', 'm', 'n', ''],\n",
       " ['', '', '', '', ''],\n",
       " ['', '', '', '', '']]"
      ]
     },
     "metadata": {},
     "execution_count": 23
    }
   ],
   "source": [
    "n = 0\n",
    "for i in range(len(str)):\n",
    "    # print(i, str[i])\n",
    "    c2[i//5][i%5] = str[i]\n",
    "c2"
   ]
  },
  {
   "cell_type": "code",
   "execution_count": 41,
   "metadata": {},
   "outputs": [
    {
     "output_type": "execute_result",
     "data": {
      "text/plain": [
       "2"
      ]
     },
     "metadata": {},
     "execution_count": 41
    }
   ],
   "source": [
    "import math\n",
    "key = 12345\n",
    "digits = int(math.log10(key)) + 1\n",
    "digits\n",
    "x = math.pow(10, digits - 1)\n",
    "x\n",
    "int(key // x + 1) # int 取整\n"
   ]
  },
  {
   "cell_type": "code",
   "execution_count": 43,
   "metadata": {},
   "outputs": [
    {
     "output_type": "execute_result",
     "data": {
      "text/plain": [
       "26"
      ]
     },
     "metadata": {},
     "execution_count": 43
    }
   ],
   "source": [
    "\n"
   ]
  }
 ]
}